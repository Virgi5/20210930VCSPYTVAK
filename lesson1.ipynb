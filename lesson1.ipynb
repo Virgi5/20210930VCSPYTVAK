{
 "cells": [
  {
   "cell_type": "code",
   "execution_count": 27,
   "source": [
    "#kabutes turi skirtis\r\n",
    "kint = \"kabutes buna 'ivairiausios'\"\r\n",
    "len(kint)*2"
   ],
   "outputs": [
    {
     "output_type": "error",
     "ename": "SyntaxError",
     "evalue": "illegal target for annotation (Temp/ipykernel_12140/2784965091.py, line 3)",
     "traceback": [
      "\u001b[1;36m  File \u001b[1;32m\"C:\\Users\\VIRGIN~1\\AppData\\Local\\Temp/ipykernel_12140/2784965091.py\"\u001b[1;36m, line \u001b[1;32m3\u001b[0m\n\u001b[1;33m    len(kint)*2:2\u001b[0m\n\u001b[1;37m    ^\u001b[0m\n\u001b[1;31mSyntaxError\u001b[0m\u001b[1;31m:\u001b[0m illegal target for annotation\n"
     ]
    }
   ],
   "metadata": {}
  },
  {
   "cell_type": "code",
   "execution_count": 41,
   "source": [
    "vardas = 'virgis'\r\n",
    "pavarde = \"venckauskas\"\r\n",
    "print(f'mano vardas yra {vardas} {pavarde}')\r\n",
    "\r\n"
   ],
   "outputs": [
    {
     "output_type": "stream",
     "name": "stdout",
     "text": [
      "mano vardas yra virgis venckauskas\n"
     ]
    }
   ],
   "metadata": {}
  },
  {
   "cell_type": "code",
   "execution_count": 49,
   "source": [
    "tekstas = 'Python makes me really really happy!'\r\n",
    "print (tekstas.replace(\"python\", \"Python\"))"
   ],
   "outputs": [
    {
     "output_type": "stream",
     "name": "stdout",
     "text": [
      "Python makes me really really happy!\n"
     ]
    }
   ],
   "metadata": {}
  },
  {
   "cell_type": "code",
   "execution_count": 61,
   "source": [
    "sakinys = '''Hello World, I am happy to learn\r\n",
    "Python!'''\r\n",
    "print (sakinys[0])\r\n",
    "print (sakinys[12:])\r\n",
    "rasti_zodi = 'happy'\r\n",
    "print (sakinys[sakinys.index(rasti_zodi): sakinys.index(rasti_zodi)+len(rasti_zodi)])"
   ],
   "outputs": [
    {
     "output_type": "stream",
     "name": "stdout",
     "text": [
      "H\n",
      " I am happy to learn\n",
      "Python!\n",
      "happy\n"
     ]
    }
   ],
   "metadata": {}
  },
  {
   "cell_type": "code",
   "execution_count": null,
   "source": [],
   "outputs": [],
   "metadata": {}
  },
  {
   "cell_type": "code",
   "execution_count": null,
   "source": [],
   "outputs": [],
   "metadata": {}
  },
  {
   "cell_type": "code",
   "execution_count": null,
   "source": [],
   "outputs": [],
   "metadata": {}
  }
 ],
 "metadata": {
  "orig_nbformat": 4,
  "language_info": {
   "name": "python",
   "version": "3.9.7",
   "mimetype": "text/x-python",
   "codemirror_mode": {
    "name": "ipython",
    "version": 3
   },
   "pygments_lexer": "ipython3",
   "nbconvert_exporter": "python",
   "file_extension": ".py"
  },
  "kernelspec": {
   "name": "python3",
   "display_name": "Python 3.9.7 64-bit"
  },
  "interpreter": {
   "hash": "1261daac628f59790900093eb97a999809f02302ad3465ecf280cd3d5b536d72"
  }
 },
 "nbformat": 4,
 "nbformat_minor": 2
}