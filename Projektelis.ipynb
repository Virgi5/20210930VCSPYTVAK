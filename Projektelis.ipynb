{
 "cells": [
  {
   "cell_type": "code",
   "execution_count": 195,
   "metadata": {},
   "outputs": [],
   "source": [
    "class Darbuotojo_Pasitenkinimas_Darbu:\n",
    "    def __init__(self, atlyginimas, priedai, sant_su_vadovu, motyvavimo_sist, mikroklimatas):\n",
    "        self.atlyginimas = atlyginimas\n",
    "        self.priedai = priedai\n",
    "        self.sant_su_vadovu = sant_su_vadovu\n",
    "        self.motyvavimo_sist = motyvavimo_sist\n",
    "        self. mikroklimatas = mikroklimatas\n"
   ]
  },
  {
   "cell_type": "code",
   "execution_count": 196,
   "metadata": {},
   "outputs": [],
   "source": [
    "def darbuotojo_vertinimas (self, atlyginimas):\n",
    "    return self.atlyginimas \n",
    "\n",
    "def darbuotojo_vertinimas (self, priedai):\n",
    "    return self.priedai \n",
    "\n",
    "def darbuotojo_vertinimas (self, sant_su_vadovu):\n",
    "    return self.sant_su_vadovu \n",
    "\n",
    "def darbuotojo_vertinimas (self, motyvavimo_sist):\n",
    "    return self.motyvavimo_sist \n",
    "\n",
    "def darbuotojo_vertinimas (self, mikroklimatas):\n",
    "    return self.mikroklimatas "
   ]
  },
  {
   "cell_type": "code",
   "execution_count": 197,
   "metadata": {},
   "outputs": [],
   "source": [
    "\n",
    "atlyginimas = int(input('Kaip vertinate gaunama atlyginima skaleje nuo 1 iki 10?: '))\n",
    "priedai = int(input('Kaip vertinate gaunamus priedus skaleje nuo 1 iki 10?: '))\n",
    "sant_su_vadovu = int(input('Kaip vertinate santykius su vadovu skaleje nuo 1 iki 10?: '))\n",
    "motyvavimo_sist = int(input('Kaip vertinate motyvavimo sistema darbe skaleje nuo 1 iki 10?: '))\n",
    "mikroklimatas = int(input('Kaip vertinate mikroklimata darbe skaleje nuo 1 iki 10?: '))"
   ]
  },
  {
   "cell_type": "code",
   "execution_count": 198,
   "metadata": {},
   "outputs": [],
   "source": [
    "Darbuotojas_1_ivertinimas = Darbuotojo_Pasitenkinimas_Darbu (9,7,4,6,5)\n",
    "Darbuotojas_2_ivertinimas = Darbuotojo_Pasitenkinimas_Darbu (10,7,4,6,9)\n",
    "Darbuotojas_3_ivertinimas = Darbuotojo_Pasitenkinimas_Darbu (8,8,5,8,2)\n",
    "Darbuotojas_4_ivertinimas = Darbuotojo_Pasitenkinimas_Darbu (9,5,6,7,3)\n",
    "Darbuotojas_5_ivertinimas = Darbuotojo_Pasitenkinimas_Darbu (8,6,4,6,8)"
   ]
  },
  {
   "cell_type": "code",
   "execution_count": 210,
   "metadata": {},
   "outputs": [
    {
     "name": "stdout",
     "output_type": "stream",
     "text": [
      "40\n",
      "<__main__.Darbuotojo_Pasitenkinimas_Darbu object at 0x000001C6F67AF250>\n",
      "<__main__.Darbuotojo_Pasitenkinimas_Darbu object at 0x000001C6F67AF9A0>\n",
      "<__main__.Darbuotojo_Pasitenkinimas_Darbu object at 0x000001C6F67AF9D0>\n",
      "<__main__.Darbuotojo_Pasitenkinimas_Darbu object at 0x000001C6F67AF700>\n"
     ]
    }
   ],
   "source": [
    "print (Darbuotojas_1_ivertinimas)\n",
    "print (Darbuotojas_2_ivertinimas)\n",
    "print (Darbuotojas_3_ivertinimas)\n",
    "print (Darbuotojas_4_ivertinimas)\n",
    "print (Darbuotojas_5_ivertinimas)"
   ]
  },
  {
   "cell_type": "code",
   "execution_count": 211,
   "metadata": {},
   "outputs": [
    {
     "name": "stdout",
     "output_type": "stream",
     "text": [
      "Darbuotojo_1 'Pasitenkinimo darbu' bendras ivertinimas yra 40 \n"
     ]
    }
   ],
   "source": [
    "Darbuotojas_1_ivertinimas = (atlyginimas + priedai + sant_su_vadovu + motyvavimo_sist + mikroklimatas)\n",
    "print(f\"Darbuotojo_1 'Pasitenkinimo darbu' bendras ivertinimas yra {Darbuotojas_1_ivertinimas} \")"
   ]
  },
  {
   "cell_type": "code",
   "execution_count": 213,
   "metadata": {},
   "outputs": [
    {
     "name": "stdout",
     "output_type": "stream",
     "text": [
      "Esate labai patenkintas savo darbu\n"
     ]
    }
   ],
   "source": [
    "\n",
    "if Darbuotojas_1_ivertinimas >=5 and Darbuotojas_1_ivertinimas <=20:\n",
    "    print ('Esate nepatenkintas savo darbu')\n",
    "elif Darbuotojas_1_ivertinimas >=21 and Darbuotojas_1_ivertinimas <=35:\n",
    "    print ('Esate vidutiniskai patenkintas savo darbu')\n",
    "elif Darbuotojas_1_ivertinimas >=35 and Darbuotojas_1_ivertinimas <=50:\n",
    "    print ('Esate labai patenkintas savo darbu')\n",
    "else:\n",
    "    print ('Neteisingai pateikti duomenys')"
   ]
  },
  {
   "cell_type": "code",
   "execution_count": null,
   "metadata": {},
   "outputs": [],
   "source": [
    "Bendri_rezultatai = 0\n"
   ]
  },
  {
   "cell_type": "code",
   "execution_count": null,
   "metadata": {},
   "outputs": [],
   "source": []
  }
 ],
 "metadata": {
  "interpreter": {
   "hash": "1261daac628f59790900093eb97a999809f02302ad3465ecf280cd3d5b536d72"
  },
  "kernelspec": {
   "display_name": "Python 3.9.7 64-bit",
   "name": "python3"
  },
  "language_info": {
   "codemirror_mode": {
    "name": "ipython",
    "version": 3
   },
   "file_extension": ".py",
   "mimetype": "text/x-python",
   "name": "python",
   "nbconvert_exporter": "python",
   "pygments_lexer": "ipython3",
   "version": "3.9.7"
  },
  "orig_nbformat": 4
 },
 "nbformat": 4,
 "nbformat_minor": 2
}
