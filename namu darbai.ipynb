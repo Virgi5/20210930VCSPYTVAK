{
 "cells": [
  {
   "cell_type": "markdown",
   "source": [
    "Namu darbai "
   ],
   "metadata": {}
  },
  {
   "cell_type": "markdown",
   "source": [
    "1 uzduotis"
   ],
   "metadata": {}
  },
  {
   "cell_type": "code",
   "execution_count": 21,
   "source": [
    "for number in range(0,101):\r\n",
    "    if number % 2==0 :\r\n",
    "        print('fizz')\r\n"
   ],
   "outputs": [
    {
     "output_type": "stream",
     "name": "stdout",
     "text": [
      "fizz\n",
      "fizz\n",
      "fizz\n",
      "fizz\n",
      "fizz\n",
      "fizz\n",
      "fizz\n",
      "fizz\n",
      "fizz\n",
      "fizz\n",
      "fizz\n",
      "fizz\n",
      "fizz\n",
      "fizz\n",
      "fizz\n",
      "fizz\n",
      "fizz\n",
      "fizz\n",
      "fizz\n",
      "fizz\n",
      "fizz\n",
      "fizz\n",
      "fizz\n",
      "fizz\n",
      "fizz\n",
      "fizz\n",
      "fizz\n",
      "fizz\n",
      "fizz\n",
      "fizz\n",
      "fizz\n",
      "fizz\n",
      "fizz\n",
      "fizz\n",
      "fizz\n",
      "fizz\n",
      "fizz\n",
      "fizz\n",
      "fizz\n",
      "fizz\n",
      "fizz\n",
      "fizz\n",
      "fizz\n",
      "fizz\n",
      "fizz\n",
      "fizz\n",
      "fizz\n",
      "fizz\n",
      "fizz\n",
      "fizz\n",
      "fizz\n"
     ]
    }
   ],
   "metadata": {}
  },
  {
   "cell_type": "code",
   "execution_count": 22,
   "source": [
    "for number in range(0,101):\r\n",
    "    if number %3==0:\r\n",
    "        print('buzz')"
   ],
   "outputs": [
    {
     "output_type": "stream",
     "name": "stdout",
     "text": [
      "buzz\n",
      "buzz\n",
      "buzz\n",
      "buzz\n",
      "buzz\n",
      "buzz\n",
      "buzz\n",
      "buzz\n",
      "buzz\n",
      "buzz\n",
      "buzz\n",
      "buzz\n",
      "buzz\n",
      "buzz\n",
      "buzz\n",
      "buzz\n",
      "buzz\n",
      "buzz\n",
      "buzz\n",
      "buzz\n",
      "buzz\n",
      "buzz\n",
      "buzz\n",
      "buzz\n",
      "buzz\n",
      "buzz\n",
      "buzz\n",
      "buzz\n",
      "buzz\n",
      "buzz\n",
      "buzz\n",
      "buzz\n",
      "buzz\n",
      "buzz\n"
     ]
    }
   ],
   "metadata": {}
  },
  {
   "cell_type": "code",
   "execution_count": 47,
   "source": [
    "for number in range(0,101):\r\n",
    "    if number %3==0 and number %2==0:\r\n",
    "        print('fizzbuzz')"
   ],
   "outputs": [
    {
     "output_type": "stream",
     "name": "stdout",
     "text": [
      "fizzbuzz\n",
      "fizzbuzz\n",
      "fizzbuzz\n",
      "fizzbuzz\n",
      "fizzbuzz\n",
      "fizzbuzz\n",
      "fizzbuzz\n",
      "fizzbuzz\n",
      "fizzbuzz\n",
      "fizzbuzz\n",
      "fizzbuzz\n",
      "fizzbuzz\n",
      "fizzbuzz\n",
      "fizzbuzz\n",
      "fizzbuzz\n",
      "fizzbuzz\n",
      "fizzbuzz\n"
     ]
    }
   ],
   "metadata": {}
  },
  {
   "cell_type": "markdown",
   "source": [
    "2 uzduotis"
   ],
   "metadata": {}
  },
  {
   "cell_type": "code",
   "execution_count": 199,
   "source": [
    "\r\n",
    "pasirinktas_skaicius = int(input('Iveskite skaiciu: '))\r\n",
    "for number in range (1,11):\r\n",
    "        if pasirinktas_skaicius >=10:\r\n",
    "            print()\r\n",
    "                elif pasirinktas_skaicius <=10:\r\n",
    "                    print()\r\n",
    "    \r\n"
   ],
   "outputs": [
    {
     "output_type": "error",
     "ename": "IndentationError",
     "evalue": "unexpected indent (Temp/ipykernel_14536/3248689143.py, line 5)",
     "traceback": [
      "\u001b[1;36m  File \u001b[1;32m\"C:\\Users\\VIRGIN~1\\AppData\\Local\\Temp/ipykernel_14536/3248689143.py\"\u001b[1;36m, line \u001b[1;32m5\u001b[0m\n\u001b[1;33m    elif pasirinktas_skaicius <=10:\u001b[0m\n\u001b[1;37m    ^\u001b[0m\n\u001b[1;31mIndentationError\u001b[0m\u001b[1;31m:\u001b[0m unexpected indent\n"
     ]
    }
   ],
   "metadata": {}
  },
  {
   "cell_type": "code",
   "execution_count": 196,
   "source": [
    "input_number = int(input('Iveskite skaiciu: '))\r\n",
    "for number in range (1,11):\r\n",
    "    if number %5!=0:\r\n",
    "         print()\r\n",
    "         "
   ],
   "outputs": [
    {
     "output_type": "stream",
     "name": "stdout",
     "text": [
      "\n",
      "\n",
      "\n",
      "\n",
      "\n",
      "\n",
      "\n",
      "\n"
     ]
    }
   ],
   "metadata": {}
  },
  {
   "cell_type": "markdown",
   "source": [
    "3 uzduotis"
   ],
   "metadata": {}
  },
  {
   "cell_type": "code",
   "execution_count": 223,
   "source": [
    "skaiciai = ['1','2','3','4','5']\r\n",
    "stringai = ['labas', 'vakaras', 'kokia grazi diena', 'siandien uz lango', '10 laipsniu silumos']\r\n",
    "mixai = ['100', '200', 40, 10]\r\n",
    "\r\n",
    "kombinacijos = []\r\n",
    "for skaicius in skaiciai:\r\n",
    "    for stringas in stringai:\r\n",
    "        for mixas in mixai:\r\n",
    "            kombinacijos.append((skaicius,stringas,mixas))\r\n",
    " \r\n",
    " print (kombinacijos)"
   ],
   "outputs": [
    {
     "output_type": "error",
     "ename": "IndentationError",
     "evalue": "unindent does not match any outer indentation level (<tokenize>, line 11)",
     "traceback": [
      "\u001b[1;36m  File \u001b[1;32m\"<tokenize>\"\u001b[1;36m, line \u001b[1;32m11\u001b[0m\n\u001b[1;33m    print (kombinacijos)\u001b[0m\n\u001b[1;37m    ^\u001b[0m\n\u001b[1;31mIndentationError\u001b[0m\u001b[1;31m:\u001b[0m unindent does not match any outer indentation level\n"
     ]
    }
   ],
   "metadata": {}
  },
  {
   "cell_type": "code",
   "execution_count": null,
   "source": [],
   "outputs": [],
   "metadata": {}
  },
  {
   "cell_type": "code",
   "execution_count": 177,
   "source": [
    "skaiciai = ['1','2','3','4','5']\r\n",
    "stringai = ['labas', 'vakaras', 'kokia grazi diena', 'siandien uz lango', '10 laipsniu silumos']\r\n",
    "mixai = ['100', '200', 40, 10]\r\n",
    "\r\n",
    "print(mixai)\r\n",
    "# cia didziausias ir maziausias reiksmes neisrikiuosime, nes str elementai neturi tokiu reiksmiu. \r\n",
    "# Sarase tik 2 int elementai, tai nera ka rikiuoti :)"
   ],
   "outputs": [
    {
     "output_type": "stream",
     "name": "stdout",
     "text": [
      "['100', '200', 40, 10]\n"
     ]
    }
   ],
   "metadata": {}
  },
  {
   "cell_type": "markdown",
   "source": [
    "Namu darbai.2"
   ],
   "metadata": {}
  },
  {
   "cell_type": "markdown",
   "source": [
    "1 uzduotis"
   ],
   "metadata": {}
  },
  {
   "cell_type": "code",
   "execution_count": 158,
   "source": [
    "\r\n",
    "a = [1,2,3,4,5,6,7,8,9,15]\r\n",
    "b = [3,8,9,11,15]\r\n",
    "print(f'Pasikartojantys elementai sarasuose yra {set(a).intersection(set(b))}')\r\n"
   ],
   "outputs": [
    {
     "output_type": "stream",
     "name": "stdout",
     "text": [
      "Pasikartojantys elementai sarasuose yra {8, 9, 3, 15}\n"
     ]
    }
   ],
   "metadata": {}
  },
  {
   "cell_type": "markdown",
   "source": [
    "2 uzduotis"
   ],
   "metadata": {}
  },
  {
   "cell_type": "code",
   "execution_count": 102,
   "source": [
    "list = [1, 5, 1, 2, 8, -9, 10, 1, -8, -900, 14, 5,\r\n",
    "-8, 2, 1, -20, 900, 800, -6, -8, 12, 1]\r\n",
    "print (set(list))\r\n"
   ],
   "outputs": [
    {
     "output_type": "stream",
     "name": "stdout",
     "text": [
      "{800, 1, 2, 900, 5, 8, 10, -20, 12, 14, -9, -8, -6, -900}\n"
     ]
    }
   ],
   "metadata": {}
  },
  {
   "cell_type": "code",
   "execution_count": 145,
   "source": [
    "new_list = [800, 1, 2, 900, 5, 8, 10, -20, 12, 14, -9, -8, -6, -900]\r\n",
    "for Teigiami_sk in new_list:\r\n",
    "    if Teigiami_sk > 0:\r\n",
    "        print(f'unikalus teigiamas numeris sarase yra: {Teigiami_sk}')"
   ],
   "outputs": [
    {
     "output_type": "stream",
     "name": "stdout",
     "text": [
      "unikalus teigiamas numeris sarase yra: 800\n",
      "unikalus teigiamas numeris sarase yra: 1\n",
      "unikalus teigiamas numeris sarase yra: 2\n",
      "unikalus teigiamas numeris sarase yra: 900\n",
      "unikalus teigiamas numeris sarase yra: 5\n",
      "unikalus teigiamas numeris sarase yra: 8\n",
      "unikalus teigiamas numeris sarase yra: 10\n",
      "unikalus teigiamas numeris sarase yra: 12\n",
      "unikalus teigiamas numeris sarase yra: 14\n"
     ]
    }
   ],
   "metadata": {}
  },
  {
   "cell_type": "markdown",
   "source": [
    "3 uzduotis"
   ],
   "metadata": {}
  },
  {
   "cell_type": "code",
   "execution_count": 116,
   "source": [
    "prekes = { \"cost_price\": 32.67,\r\n",
    "\"sell_price\": 45.00,\r\n",
    "\"inventory\": 1212 }\r\n",
    "print(prekes.values())"
   ],
   "outputs": [
    {
     "output_type": "stream",
     "name": "stdout",
     "text": [
      "dict_values([32.67, 45.0, 1212])\n"
     ]
    }
   ],
   "metadata": {}
  },
  {
   "cell_type": "code",
   "execution_count": 130,
   "source": [
    "pirk_kaina = 32.67 \r\n",
    "pard_kaina = 45.00\r\n",
    "kiekis = 1212\r\n",
    "\r\n",
    "print(f'Pelnas pardavus prekes = {(pard_kaina*kiekis) - (pirk_kaina*kiekis)}')"
   ],
   "outputs": [
    {
     "output_type": "stream",
     "name": "stdout",
     "text": [
      "Pelnas pardavus prekes = 14943.96\n"
     ]
    }
   ],
   "metadata": {}
  },
  {
   "cell_type": "code",
   "execution_count": null,
   "source": [],
   "outputs": [],
   "metadata": {}
  }
 ],
 "metadata": {
  "orig_nbformat": 4,
  "language_info": {
   "name": "python",
   "version": "3.9.7",
   "mimetype": "text/x-python",
   "codemirror_mode": {
    "name": "ipython",
    "version": 3
   },
   "pygments_lexer": "ipython3",
   "nbconvert_exporter": "python",
   "file_extension": ".py"
  },
  "kernelspec": {
   "name": "python3",
   "display_name": "Python 3.9.7 64-bit"
  },
  "interpreter": {
   "hash": "1261daac628f59790900093eb97a999809f02302ad3465ecf280cd3d5b536d72"
  }
 },
 "nbformat": 4,
 "nbformat_minor": 2
}